{
 "cells": [
  {
   "cell_type": "markdown",
   "metadata": {
    "slideshow": {
     "slide_type": "slide"
    }
   },
   "source": [
    "# [Message queue](https://en.wikipedia.org/wiki/Message_queue)\n",
    "\n",
    "![](https://i0.wp.com/robtiffany.com/wp-content/uploads/2009/10/message_queue.png?fit=500%2C194)\n",
    "\n",
    "* __Asynchronous communications protocol__, meaning that the sender and receiver of the message do not need to interact with the message queue at the same time.\n",
    "    * Update part of a web page with more relevant information\n",
    "    * An application may need to notify another that an event has occurred, but does not need to wait for a response.\n",
    "    * In publish/subscribe systems, an application \"publishes\" information for any number of clients to read.\n",
    "\n",
    "* Three standards have emerged which are used in open source message queue implementations:\n",
    "    * Advanced Message Queuing Protocol (AMQP) – feature-rich message queue protocol, approved as ISO/IEC 19464 since April 2014\n",
    "    * Streaming Text Oriented Messaging Protocol (STOMP) – simple, text-oriented message protocol\n",
    "    * MQTT (formerly MQ Telemetry Transport) - lightweight message queue protocol especially for embedded devices\n",
    "    \n"
   ]
  },
  {
   "cell_type": "markdown",
   "metadata": {
    "slideshow": {
     "slide_type": "fragment"
    }
   },
   "source": [
    "## A number of technologies\n",
    "\n",
    "* IBM MQ. \n",
    "* RabbitMQ. \n",
    "* ActiveMQ. \n",
    "* Apache Kafka. \n",
    "* Aurea CX Messenger. \n",
    "* Solace PubSub+\n",
    "* Anypoint MQ.\n",
    "* Red Hat AMQ."
   ]
  },
  {
   "cell_type": "markdown",
   "metadata": {},
   "source": [
    "# AMQP\n",
    "\n",
    "# [RabbitMQ](https://www.rabbitmq.com/)\n",
    "\n",
    "## [Rabbimq su docker](https://hub.docker.com/_/rabbitmq/)\n",
    "\n",
    "## [Tutorials code](https://github.com/rabbitmq/rabbitmq-tutorials)\n",
    "\n",
    "```\n",
    "docker run -d --hostname my-rabbit -p 5671:5671 -p 5672:5672 -p 15672:15672 -p 25672:25672 --name some-rabbit rabbitmq:3\n",
    "```\n",
    "```\n",
    "docker ps\n",
    "sudo docker exec -i -t fac0e279e9a4 /bin/bash\n",
    "rabbitmqctl list_queues\n",
    "```"
   ]
  },
  {
   "cell_type": "code",
   "execution_count": 1,
   "metadata": {},
   "outputs": [
    {
     "name": "stdout",
     "output_type": "stream",
     "text": [
      "docker: Error response from daemon: Conflict. The container name \"/some-rabbit\" is already in use by container \"bb6b0d437c59d86e4ea2d643c69dd042b880de40d7bbf65cd702b8f52faaaf10\". You have to remove (or rename) that container to be able to reuse that name.\r\n",
      "See 'docker run --help'.\r\n"
     ]
    }
   ],
   "source": [
    "!docker run -d --hostname my-rabbit -p 5671:5671 -p 5672:5672 -p 15672:15672 -p 25672:25672 --name some-rabbit rabbitmq:3"
   ]
  },
  {
   "cell_type": "code",
   "execution_count": 6,
   "metadata": {},
   "outputs": [
    {
     "name": "stdout",
     "output_type": "stream",
     "text": [
      "bb6b0d437c59        rabbitmq:3                          \"docker-entrypoint...\"   6 days ago          Up 46 hours                 0.0.0.0:5671-5672->5671-5672/tcp, 0.0.0.0:15672->15672/tcp, 4369/tcp, 0.0.0.0:25672->25672/tcp   some-rabbit\r\n"
     ]
    }
   ],
   "source": [
    "!docker ps -a | grep rabbit"
   ]
  },
  {
   "cell_type": "code",
   "execution_count": 6,
   "metadata": {},
   "outputs": [
    {
     "name": "stdout",
     "output_type": "stream",
     "text": [
      "bb6b0d437c59\r\n"
     ]
    }
   ],
   "source": [
    "!docker start bb6b0d437c59"
   ]
  },
  {
   "cell_type": "markdown",
   "metadata": {},
   "source": [
    "# Nodejs code for RabbitMQ tutorials\n",
    "\n",
    "Here you can find Python code examples from [RabbitMQ tutorials](http://www.rabbitmq.com/getstarted.html).\n",
    "\n",
    "To successfully use the examples you will need a running RabbitMQ broker (see sectino above on how to run it on docker)\n",
    "\n",
    "\n",
    "## Nodejs tutorial (i.e. javascript)\n",
    "\n",
    "\n",
    "[Tutorial one: \"Hello World!\"](http://www.rabbitmq.com/tutorial-one-javascript.html): The simplest thing that does something\n",
    "\n",
    "![](http://www.rabbitmq.com/img/tutorials/python-one.png)\n",
    "\n",
    "\n",
    "[Tutorial two: Work Queues](http://www.rabbitmq.com/tutorial-two-javascript.html): Distributing (time-consuming) tasks among workers\n",
    "\n",
    "![](http://www.rabbitmq.com/img/tutorials/python-two.png)\n",
    "\n",
    "\n",
    "[Tutorial three: Publish/Subscribe](http://www.rabbitmq.com/tutorial-three-javascript.html): Sending messages to many consumers at once\n",
    "\n",
    "![](http://www.rabbitmq.com/img/tutorials/exchanges.png)\n",
    "\n",
    "\n",
    "\n",
    "[Tutorial four: Routing](http://www.rabbitmq.com/tutorial-four-javascript.html): Receiving messages selectively\n",
    "\n",
    "![](http://www.rabbitmq.com/img/tutorials/direct-exchange.png)\n",
    "\n",
    "\n",
    "[Tutorial five: Topics](http://www.rabbitmq.com/tutorial-five-javascript.html): Receiving messages based on a pattern (topics)\n",
    "\n",
    "![](http://www.rabbitmq.com/img/tutorials/python-five.png)\n",
    "\n",
    "\n",
    "[Tutorial six: RPC](http://www.rabbitmq.com/tutorial-six-javascript.html): Request/reply pattern example\n",
    "\n",
    "![](http://www.rabbitmq.com/img/tutorials/python-six.png)\n"
   ]
  },
  {
   "cell_type": "markdown",
   "metadata": {},
   "source": [
    "## Note: the code running on a jupyter cell hangs. This is probably due to the interaction of Tornado (the Web Server underlying Jupyter) with the async Rabbitmq\n",
    "\n",
    "## For this reason, It is better running this notebook on shells"
   ]
  },
  {
   "cell_type": "code",
   "execution_count": 7,
   "metadata": {},
   "outputs": [
    {
     "name": "stdout",
     "output_type": "stream",
     "text": [
      "\u001b[K\u001b[?25h\u001b[37;40mnpm\u001b[0m \u001b[0m\u001b[30;43mWARN\u001b[0m \u001b[0m\u001b[35msaveError\u001b[0m ENOENT: no such file or directory, open '/home/andrea/Documents/University/Didattica/RC2018/notebooks/AMQP/package.json'\n",
      "\u001b[K\u001b[?25h\u001b[37;40mnpm\u001b[0m \u001b[0m\u001b[30;43mWARN\u001b[0m \u001b[0m\u001b[35menoent\u001b[0m ENOENT: no such file or directory, open '/home/andrea/Documents/University/Didattica/RC2018/notebooks/AMQP/package.json'\n",
      "\u001b[0m\u001b[37;40mnpm\u001b[0m \u001b[0m\u001b[30;43mWARN\u001b[0m\u001b[35m\u001b[0m AMQP No description\n",
      "\u001b[0m\u001b[37;40mnpm\u001b[0m \u001b[0m\u001b[30;43mWARN\u001b[0m\u001b[35m\u001b[0m AMQP No repository field.\n",
      "\u001b[0m\u001b[37;40mnpm\u001b[0m \u001b[0m\u001b[30;43mWARN\u001b[0m\u001b[35m\u001b[0m AMQP No README data\n",
      "\u001b[0m\u001b[37;40mnpm\u001b[0m \u001b[0m\u001b[30;43mWARN\u001b[0m\u001b[35m\u001b[0m AMQP No license field.\n",
      "\u001b[0m\n",
      "\u001b[K\u001b[?25h+ amqplib@0.5.290m......\u001b[0m] | postinstall: \u001b[30;43mWARN\u001b[0m AMQP No license field.\u001b[0m\u001b[K[0m\u001b[K\n",
      "updated 1 package and audited 25 packages in 2.929s\n",
      "found \u001b[92m0\u001b[0m vulnerabilities\n",
      "\n"
     ]
    }
   ],
   "source": [
    "!npm install amqplib"
   ]
  },
  {
   "cell_type": "markdown",
   "metadata": {},
   "source": [
    "![](http://www.rabbitmq.com/img/tutorials/sending.png)"
   ]
  },
  {
   "cell_type": "code",
   "execution_count": null,
   "metadata": {},
   "outputs": [],
   "source": [
    "# %load code/send.js\n",
    "#!/usr/bin/env node\n",
    "\n",
    "var amqp = require('amqplib/callback_api');\n",
    "\n",
    "// connect to RabbitMQ server\n",
    "amqp.connect('amqp://localhost', function(err, conn) {\n",
    "// create a queue. It is idempotent. You do not know\n",
    "// whether will first the send or the receive  access the broker    conn.createChannel(function(err, ch) {\n",
    "// and the queue must exist\n",
    "    var q = 'hello';\n",
    "    var msg = 'Hello World!';\n",
    "// create a queue. It is idempotent\n",
    "    ch.assertQueue(q, {durable: false});\n",
    "    ch.sendToQueue(q, Buffer.from(msg));\n",
    "    console.log(\" [x] Sent %s\", msg);\n",
    "  });\n",
    "// clode the connection and exit\n",
    "  setTimeout(function() { conn.close(); process.exit(0) }, 500);\n",
    "});\n"
   ]
  },
  {
   "cell_type": "code",
   "execution_count": 2,
   "metadata": {},
   "outputs": [],
   "source": [
    "%%bash\n",
    "terminator -T 'SEND' --command='code/send.js' --layout=class\n"
   ]
  },
  {
   "cell_type": "markdown",
   "metadata": {},
   "source": [
    "![](http://www.rabbitmq.com/img/tutorials/receiving.png)"
   ]
  },
  {
   "cell_type": "code",
   "execution_count": 31,
   "metadata": {},
   "outputs": [
    {
     "name": "stdout",
     "output_type": "stream",
     "text": [
      "Overwriting code/receive.js\n"
     ]
    }
   ],
   "source": [
    "%%writefile code/receive.js\n",
    "#!/usr/bin/env node\n",
    "\n",
    "var amqp = require('amqplib/callback_api');\n",
    "\n",
    "amqp.connect('amqp://localhost', function(err, conn) {\n",
    "  conn.createChannel(function(err, ch) {\n",
    "    var q = 'hello';\n",
    "// create a queue. It is idempotent. You do not know\n",
    "// whether will first the send or the receive  access the broker\n",
    "// and the queue must exist    \n",
    "      ch.assertQueue(q, {durable: false});\n",
    "    console.log(\" [*] Waiting for messages in %s. To exit press CTRL+C\", q);\n",
    "    ch.consume(q, function(msg) {\n",
    "      console.log(\" [x] Received %s\", msg.content.toString());\n",
    "    }, {noAck: true});\n",
    "  });\n",
    "  // trick to make it working for a single call ... not really useful!\n",
    "  //setTimeout(function() { conn.close(); process.exit(0) }, 500);\n",
    "});\n"
   ]
  },
  {
   "cell_type": "code",
   "execution_count": 4,
   "metadata": {},
   "outputs": [],
   "source": [
    "%%bash\n",
    "terminator -T 'RECEIVE' --command='code/receive.js' --profile=class"
   ]
  },
  {
   "cell_type": "code",
   "execution_count": 10,
   "metadata": {},
   "outputs": [
    {
     "name": "stdout",
     "output_type": "stream",
     "text": [
      "bb6b0d437c59        rabbitmq:3                          \"docker-entrypoint...\"   6 days ago          Up 2 days                   0.0.0.0:5671-5672->5671-5672/tcp, 0.0.0.0:15672->15672/tcp, 4369/tcp, 0.0.0.0:25672->25672/tcp   some-rabbit\r\n"
     ]
    }
   ],
   "source": [
    "!docker ps -a | grep rabbit"
   ]
  },
  {
   "cell_type": "markdown",
   "metadata": {},
   "source": [
    "```bash\n",
    "sudo docker exec -i -t bb6b0d437c59 /bin/bash #by ID\n",
    "\n",
    "sudo rabbitmqctl list_queues\n",
    "```"
   ]
  },
  {
   "cell_type": "markdown",
   "metadata": {},
   "source": [
    "![](http://www.rabbitmq.com/img/tutorials/python-two.png)"
   ]
  },
  {
   "cell_type": "markdown",
   "metadata": {},
   "source": [
    "# MQTT\n",
    "\n",
    "# https://github.com/mqtt/mqtt.github.io/wiki\n",
    "\n",
    "# https://www.hivemq.com/mqtt-essentials/\n",
    "\n",
    "![](https://www.hivemq.com/wp-content/uploads/Screen-Shot-2014-10-22-at-12.21.07.png)"
   ]
  },
  {
   "attachments": {},
   "cell_type": "markdown",
   "metadata": {},
   "source": [
    "# https://www.hivemq.com/blog/mqtt-essentials-part-5-mqtt-topics-best-practices\n",
    "\n",
    "![image.png](https://vasters.com/images/content/mqtt.png)\n",
    "\n"
   ]
  },
  {
   "cell_type": "markdown",
   "metadata": {},
   "source": [
    "# http://www.steves-internet-guide.com/understanding-mqtt-qos-levels-part-1/\n",
    "\n",
    "\n",
    "## QOS 0: At most once (fire and forget)\n",
    " \n",
    "## QOS 1: At least once \n",
    "![](http://www.steves-internet-guide.com/wp-content/uploads/mqtt-publish-flow-qos-1.jpg)\n",
    "## QOS 1: Exactly once \n",
    "![](http://www.steves-internet-guide.com/wp-content/uploads/mqtt-publish-flow-qos-2.jpg)\n"
   ]
  },
  {
   "cell_type": "code",
   "execution_count": 2,
   "metadata": {},
   "outputs": [],
   "source": [
    "%%bash\n",
    "terminator -T 'RECEIVE' --command='service mosquitto stop' --profile=class"
   ]
  },
  {
   "cell_type": "code",
   "execution_count": 9,
   "metadata": {},
   "outputs": [],
   "source": [
    "%%bash\n",
    "terminator -T 'RECEIVE' --command='docker run -it -p 1883:1883 -p 9001:9001 eclipse-mosquitto' --profile=class\n"
   ]
  },
  {
   "cell_type": "markdown",
   "metadata": {},
   "source": [
    "http://www.steves-internet-guide.com/mosquitto_pub-sub-clients/"
   ]
  },
  {
   "cell_type": "code",
   "execution_count": 10,
   "metadata": {},
   "outputs": [],
   "source": [
    "%%bash\n",
    "terminator -T 'RECEIVE' --command='mosquitto_sub -h 127.0.0.1 -p 1883 -t house/#' --profile=class"
   ]
  },
  {
   "cell_type": "code",
   "execution_count": 11,
   "metadata": {},
   "outputs": [
    {
     "name": "stdout",
     "output_type": "stream",
     "text": [
      "Client mosqpub|22996-andrea-La sending CONNECT\r\n",
      "Client mosqpub|22996-andrea-La received CONNACK\r\n",
      "Client mosqpub|22996-andrea-La sending PUBLISH (d0, q0, r0, m1, 'house/roomo1/light1', ... (15 bytes))\r\n",
      "Client mosqpub|22996-andrea-La sending DISCONNECT\r\n"
     ]
    }
   ],
   "source": [
    "!mosquitto_pub -h 127.0.0.1 -p 1883 -m {\\\"status\\\":\\\"ON\\\"} -t house/roomo1/light1 -d"
   ]
  },
  {
   "cell_type": "markdown",
   "metadata": {},
   "source": [
    "## http://vasters.com/blog/From-MQTT-to-AMQP-and-back/#null\n",
    "\n",
    "![](http://vasters.com/images/content/federation.png)"
   ]
  },
  {
   "cell_type": "code",
   "execution_count": null,
   "metadata": {},
   "outputs": [],
   "source": []
  }
 ],
 "metadata": {
  "celltoolbar": "Slideshow",
  "kernelspec": {
   "display_name": "Python 3",
   "language": "python",
   "name": "python3"
  },
  "language_info": {
   "codemirror_mode": {
    "name": "ipython",
    "version": 2
   },
   "file_extension": ".py",
   "mimetype": "text/x-python",
   "name": "python",
   "nbconvert_exporter": "python",
   "pygments_lexer": "ipython2",
   "version": "2.7.15rc1"
  }
 },
 "nbformat": 4,
 "nbformat_minor": 2
}

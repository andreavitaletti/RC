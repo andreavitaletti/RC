{
 "cells": [
  {
   "cell_type": "code",
   "execution_count": 1,
   "metadata": {
    "slideshow": {
     "slide_type": "slide"
    }
   },
   "outputs": [
    {
     "name": "stdout",
     "output_type": "stream",
     "text": [
      "791406f2b4fa580261ac114ac09f561c0324fa1ecbac781b0be81c65d77f445d\n",
      "docker: Error response from daemon: driver failed programming external connectivity on endpoint upbeat_neumann (938925f67169695c965a37818b1ef16aa3e0d5d263f1fd991296456d970ae83e): Bind for 0.0.0.0:5984 failed: port is already allocated.\n"
     ]
    }
   ],
   "source": [
    "!docker run -p 5984:5984 -d couchdb"
   ]
  },
  {
   "cell_type": "code",
   "execution_count": 2,
   "metadata": {
    "slideshow": {
     "slide_type": "fragment"
    }
   },
   "outputs": [
    {
     "name": "stdout",
     "output_type": "stream",
     "text": [
      "CONTAINER ID        IMAGE               COMMAND                  CREATED             STATUS              PORTS                                        NAMES\r\n",
      "acf009688b01        couchdb             \"tini -- /docker-e...\"   2 hours ago         Up 2 hours          4369/tcp, 9100/tcp, 0.0.0.0:5984->5984/tcp   romantic_kowalevski\r\n"
     ]
    }
   ],
   "source": [
    "!docker container ls"
   ]
  },
  {
   "cell_type": "code",
   "execution_count": 3,
   "metadata": {
    "scrolled": true,
    "slideshow": {
     "slide_type": "slide"
    }
   },
   "outputs": [
    {
     "name": "stdout",
     "output_type": "stream",
     "text": [
      "[\"test\"]\r\n"
     ]
    }
   ],
   "source": [
    "!curl -X GET http://127.0.0.1:5984/_all_dbs"
   ]
  },
  {
   "cell_type": "code",
   "execution_count": 4,
   "metadata": {
    "slideshow": {
     "slide_type": "fragment"
    }
   },
   "outputs": [
    {
     "name": "stdout",
     "output_type": "stream",
     "text": [
      "{\"error\":\"file_exists\",\"reason\":\"The database could not be created, the file already exists.\"}\r\n"
     ]
    }
   ],
   "source": [
    "!curl -X PUT http://127.0.0.1:5984/test"
   ]
  },
  {
   "cell_type": "code",
   "execution_count": 5,
   "metadata": {
    "slideshow": {
     "slide_type": "fragment"
    }
   },
   "outputs": [
    {
     "name": "stdout",
     "output_type": "stream",
     "text": [
      "[\"test\"]\r\n"
     ]
    }
   ],
   "source": [
    "!curl -X GET http://127.0.0.1:5984/_all_dbs"
   ]
  },
  {
   "cell_type": "code",
   "execution_count": 6,
   "metadata": {
    "slideshow": {
     "slide_type": "slide"
    }
   },
   "outputs": [
    {
     "name": "stdout",
     "output_type": "stream",
     "text": [
      "\u001b[K\u001b[?25h\u001b[37;40mnpm\u001b[0m \u001b[0m\u001b[30;43mWARN\u001b[0m \u001b[0m\u001b[35msaveError\u001b[0m ENOENT: no such file or directory, open '/home/andrea/Documents/University/Didattica/RC2018/notebooks/package.json'\n",
      "\u001b[K\u001b[?25h\u001b[37;40mnpm\u001b[0m \u001b[0m\u001b[34;40mnotice\u001b[0m\u001b[35m\u001b[0m created a lockfile as package-lock.json. You should commit this file.re\u001b[0m\u001b[K\n",
      "\u001b[0m\u001b[37;40mnpm\u001b[0m \u001b[0m\u001b[30;43mWARN\u001b[0m \u001b[0m\u001b[35menoent\u001b[0m ENOENT: no such file or directory, open '/home/andrea/Documents/University/Didattica/RC2018/notebooks/package.json'\n",
      "\u001b[0m\u001b[37;40mnpm\u001b[0m \u001b[0m\u001b[30;43mWARN\u001b[0m\u001b[35m\u001b[0m notebooks No description\n",
      "\u001b[0m\u001b[37;40mnpm\u001b[0m \u001b[0m\u001b[30;43mWARN\u001b[0m\u001b[35m\u001b[0m notebooks No repository field.\n",
      "\u001b[0m\u001b[37;40mnpm\u001b[0m \u001b[0m\u001b[30;43mWARN\u001b[0m\u001b[35m\u001b[0m notebooks No README data\n",
      "\u001b[0m\u001b[37;40mnpm\u001b[0m \u001b[0m\u001b[30;43mWARN\u001b[0m\u001b[35m\u001b[0m notebooks No license field.\n",
      "\u001b[0m\n",
      "\u001b[K\u001b[?25h+ request@2.88.00m......\u001b[0m] | postinstall: \u001b[30;43mWARN\u001b[0m notebooks No license field.\u001b[0m\u001b[K[0m\u001b[K\n",
      "added 48 packages from 59 contributors and audited 63 packages in 2.46s\n",
      "found \u001b[92m0\u001b[0m vulnerabilities\n",
      "\n"
     ]
    }
   ],
   "source": [
    "!npm install request"
   ]
  },
  {
   "cell_type": "markdown",
   "metadata": {
    "slideshow": {
     "slide_type": "slide"
    }
   },
   "source": [
    "```javascript\n",
    "\n",
    "var req = require('request');\n",
    "\n",
    "req({\n",
    "   \turl: 'http://localhost:5984/test',\n",
    "   \tmethod: 'GET'\n",
    "}, function(error, resp, body1){\n",
    "   \tif(error) {\n",
    "       \tconsole.log(error);\n",
    "   \t} else {\n",
    "       console.log('-->'+resp.statusCode, body1);\n",
    "   \t}\n",
    "});\n",
    "```"
   ]
  },
  {
   "cell_type": "code",
   "execution_count": 7,
   "metadata": {
    "slideshow": {
     "slide_type": "skip"
    }
   },
   "outputs": [
    {
     "name": "stdout",
     "output_type": "stream",
     "text": [
      "Overwriting request.js\n"
     ]
    }
   ],
   "source": [
    "%%writefile request.js \n",
    "\n",
    "var req = require('request');\n",
    "\n",
    "req({\n",
    "   \turl: 'http://localhost:5984/test',\n",
    "   \tmethod: 'GET'\n",
    "}, function(error, resp, body1){\n",
    "   \tif(error) {\n",
    "       \tconsole.log(error);\n",
    "   \t} else {\n",
    "       console.log('-->'+resp.statusCode, body1);\n",
    "   \t}\n",
    "});\n",
    "\n"
   ]
  },
  {
   "cell_type": "code",
   "execution_count": 8,
   "metadata": {
    "slideshow": {
     "slide_type": "fragment"
    }
   },
   "outputs": [
    {
     "name": "stdout",
     "output_type": "stream",
     "text": [
      "-->200 {\"db_name\":\"test\",\"update_seq\":\"0-g1AAAAEzeJzLYWBg4MhgTmHgzcvPy09JdcjLz8gvLskBCjMlMiTJ____PyuRAYeCJAUgmWSPX40DSE08fjUJIDX1eNXksQBJhgYgBVQ2n5C6BRB1-wmpOwBRd5-QugcQdSD3ZQEAiJJi9g\",\"sizes\":{\"file\":1664,\"external\":0,\"active\":0},\"purge_seq\":0,\"other\":{\"data_size\":0},\"doc_del_count\":0,\"doc_count\":0,\"disk_size\":1664,\"disk_format_version\":6,\"data_size\":0,\"compact_running\":false,\"cluster\":{\"q\":8,\"n\":1,\"w\":1,\"r\":1},\"instance_start_time\":\"0\"}\r\n",
      "\r\n"
     ]
    }
   ],
   "source": [
    "!node request.js"
   ]
  },
  {
   "cell_type": "code",
   "execution_count": null,
   "metadata": {},
   "outputs": [],
   "source": []
  }
 ],
 "metadata": {
  "celltoolbar": "Slideshow",
  "kernelspec": {
   "display_name": "Python 2",
   "language": "python",
   "name": "python2"
  },
  "language_info": {
   "codemirror_mode": {
    "name": "ipython",
    "version": 2
   },
   "file_extension": ".py",
   "mimetype": "text/x-python",
   "name": "python",
   "nbconvert_exporter": "python",
   "pygments_lexer": "ipython2",
   "version": "2.7.15rc1"
  }
 },
 "nbformat": 4,
 "nbformat_minor": 2
}

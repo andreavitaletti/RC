{
 "cells": [
  {
   "cell_type": "markdown",
   "metadata": {},
   "source": [
    "# LOAD BALANCING in NGINX"
   ]
  },
  {
   "cell_type": "markdown",
   "metadata": {},
   "source": [
    "# https://www.upcloud.com/support/how-to-set-up-load-balancing/\n",
    "\n",
    "<img src=\"https://www.upcloud.com/support/wp-content/uploads/2015/12/load-balancer-graph-1-1024x522.png\">\n",
    "\n",
    "\n",
    "# Virtual host\n",
    "\n",
    "* ```mv load-balancer.conf load-balancer.conf.disabled```\n",
    "* http://test1.com:8080/\n",
    "\n",
    "# Load balancer\n",
    "\n",
    "* ```mv default.conf default.conf.disabled```\n",
    "* http://localhost:8080/webapp/"
   ]
  },
  {
   "cell_type": "code",
   "execution_count": 6,
   "metadata": {},
   "outputs": [
    {
     "name": "stdout",
     "output_type": "stream",
     "text": [
      "Overwriting code/docker-compose.yml\n"
     ]
    }
   ],
   "source": [
    "%%writefile code/docker-compose.yml\n",
    "version: \"2\"\n",
    "\n",
    "services:\n",
    "  node1:\n",
    "    image: \"node:8\"\n",
    "    user: \"node\"\n",
    "    working_dir: /home/node/app\n",
    "    environment:\n",
    "      - NODE_ENV=production\n",
    "    volumes:\n",
    "      - /home/andrea/Documents/University/Didattica/RC2018/notebooks/LOAD_BALANCING_HTTPS/code/app:/home/node/app\n",
    "    expose:\n",
    "      - 8081\n",
    "    command: \"npm start\"\n",
    "  node2:\n",
    "    image: \"node:8\"\n",
    "    user: \"node\"\n",
    "    working_dir: /home/node/app\n",
    "    environment:\n",
    "      - NODE_ENV=production\n",
    "    volumes:\n",
    "      - /home/andrea/Documents/University/Didattica/RC2018/notebooks/LOAD_BALANCING_HTTPS/code/app:/home/node/app\n",
    "    expose:\n",
    "      - 8081\n",
    "    command: \"npm start\"\n",
    "  ngix:\n",
    "    image: \"nginx\"\n",
    "    volumes:\n",
    "    \n",
    "      - /home/andrea/Documents/University/Didattica/RC2018/notebooks/LOAD_BALANCING_HTTPS/code/var/www:/var/www\n",
    "      - /home/andrea/Documents/University/Didattica/RC2018/notebooks/LOAD_BALANCING_HTTPS/code/nginx.conf:/etc/nginx/nginx.conf\n",
    "      - /home/andrea/Documents/University/Didattica/RC2018/notebooks/LOAD_BALANCING_HTTPS/code/conf.d:/etc/nginx/conf.d\n",
    "    ports:\n",
    "      - \"8080:80\"\n",
    "    expose:\n",
    "      - 80\n",
    "#  couchdb:\n",
    "#    image: couchdb\n",
    "#    ports:\n",
    "#      - \"5984:5984\"\n",
    "#    expose:\n",
    "#      - 5984   \n",
    "\n"
   ]
  },
  {
   "cell_type": "code",
   "execution_count": 7,
   "metadata": {},
   "outputs": [
    {
     "name": "stdout",
     "output_type": "stream",
     "text": [
      "Overwriting code/nginx.conf\n"
     ]
    }
   ],
   "source": [
    "%%writefile code/nginx.conf\n",
    "\n",
    "user  nginx;\n",
    "worker_processes  1;\n",
    "\n",
    "error_log  /var/log/nginx/error.log warn;\n",
    "pid        /var/run/nginx.pid;\n",
    "\n",
    "\n",
    "events {\n",
    "    worker_connections  1024;\n",
    "}\n",
    "\n",
    "\n",
    "http {\n",
    "    include       /etc/nginx/mime.types;\n",
    "    default_type  application/octet-stream;\n",
    "\n",
    "    log_format  main  '$remote_addr - $remote_user [$time_local] \"$request\" '\n",
    "                      '$status $body_bytes_sent \"$http_referer\" '\n",
    "                      '\"$http_user_agent\" \"$http_x_forwarded_for\"';\n",
    "\n",
    "    access_log  /var/log/nginx/access.log  main;\n",
    "\n",
    "    sendfile        on;\n",
    "    #tcp_nopush     on;\n",
    "\n",
    "    keepalive_timeout  65;\n",
    "\n",
    "    #gzip  on;\n",
    "\n",
    "    include /etc/nginx/conf.d/*.conf;\n",
    "    #include /etc/nginx/conf.d/sites-available/*.conf;\n",
    "    #include /etc/nginx/conf.d/sites-enabled/*.conf;\n",
    "}\n"
   ]
  },
  {
   "cell_type": "code",
   "execution_count": 8,
   "metadata": {},
   "outputs": [
    {
     "name": "stdout",
     "output_type": "stream",
     "text": [
      "Overwriting code/conf.d/load-balancer.conf\n"
     ]
    }
   ],
   "source": [
    "%%writefile code/conf.d/load-balancer.conf\n",
    "\n",
    "# in the 'http' block\n",
    "upstream nodejs {\n",
    "    server node1:8081;\n",
    "    server node2:8081;\n",
    "}\n",
    "\n",
    "server {\n",
    "# in the 'server' block for HTTPS traffic\n",
    "location /webapp/ {\n",
    "    proxy_pass http://nodejs;\n",
    "}\n",
    "}\n"
   ]
  },
  {
   "cell_type": "code",
   "execution_count": null,
   "metadata": {},
   "outputs": [],
   "source": [
    "# %load code/app/server.js\n",
    "var http = require('http');\n",
    "var ip = require(\"ip\");\n",
    "\n",
    "// require the http module of node.js\n",
    "var http = require('http');\n",
    "\n",
    "// define the port of access for your server\n",
    "const PORT = 8081;\n",
    "\n",
    "// We need a function which handles requests and send response\n",
    "function handleRequest(request, response){\n",
    "    response.end('Server: '+ip.address()+' working properly. Requested URL : ' + request.url);\n",
    "}\n",
    "\n",
    "// Create a server\n",
    "var myFirstServer = http.createServer(handleRequest);\n",
    "\n",
    "// Start the server !\n",
    "myFirstServer.listen(PORT, function(){\n",
    "    // Callback triggered when server is successfully listening. Hurray!\n",
    "    console.log(\"Server listening on: http://localhost:%s\", PORT);\n",
    "});\n"
   ]
  },
  {
   "cell_type": "code",
   "execution_count": 9,
   "metadata": {},
   "outputs": [
    {
     "name": "stdout",
     "output_type": "stream",
     "text": [
      "Removing code_ngix_1\n",
      "Recreating 0e8614085d9c_0e8614085d9c_code_ngix_1 ... \n",
      "Recreating code_node1_1 ... \n",
      "Recreating 0e8614085d9c_0e8614085d9c_code_ngix_1\n",
      "Recreating code_node2_1 ... \n",
      "Recreating code_node2_1\n",
      "Recreating code_node1_1\n",
      "\u001b[1BAttaching to code_node1_1, code_ngix_1, code_node2_12mdone\u001b[0m\u001b[1A\u001b[2K\n",
      "\u001b[36mnode1_1  |\u001b[0m \n",
      "\u001b[36mnode1_1  |\u001b[0m > 2.-node@1.0.0 start /home/node/app\n",
      "\u001b[36mnode1_1  |\u001b[0m > node server.js\n",
      "\u001b[36mnode1_1  |\u001b[0m \n",
      "\u001b[36mnode1_1  |\u001b[0m Server listening on: http://localhost:8081\n",
      "\u001b[32mnode2_1  |\u001b[0m \n",
      "\u001b[32mnode2_1  |\u001b[0m > 2.-node@1.0.0 start /home/node/app\n",
      "\u001b[32mnode2_1  |\u001b[0m > node server.js\n",
      "\u001b[32mnode2_1  |\u001b[0m \n",
      "\u001b[32mnode2_1  |\u001b[0m Server listening on: http://localhost:8081\n",
      "\u001b[33mngix_1   |\u001b[0m 172.24.0.1 - - [19/Nov/2018:10:33:05 +0000] \"GET /webapp/ HTTP/1.1\" 200 72 \"http://localhost:8888/notebooks/LOAD_BALANCING_HTTPS/Load%20balancing%20and%20HTTPS.ipynb\" \"Mozilla/5.0 (X11; Linux x86_64) AppleWebKit/537.36 (KHTML, like Gecko) Chrome/69.0.3497.100 Safari/537.36\" \"-\"\n",
      "\u001b[33mngix_1   |\u001b[0m 2018/11/19 10:33:08 [error] 6#6: *1 open() \"/etc/nginx/html/favicon.ico\" failed (2: No such file or directory), client: 172.24.0.1, server: , request: \"GET /favicon.ico HTTP/1.1\", host: \"localhost:8080\", referrer: \"http://localhost:8080/webapp/\"\n",
      "\u001b[33mngix_1   |\u001b[0m 172.24.0.1 - - [19/Nov/2018:10:33:08 +0000] \"GET /favicon.ico HTTP/1.1\" 404 571 \"http://localhost:8080/webapp/\" \"Mozilla/5.0 (X11; Linux x86_64) AppleWebKit/537.36 (KHTML, like Gecko) Chrome/69.0.3497.100 Safari/537.36\" \"-\"\n",
      "\u001b[33mngix_1   |\u001b[0m 172.24.0.1 - - [19/Nov/2018:10:33:11 +0000] \"GET /webapp/ HTTP/1.1\" 200 72 \"http://localhost:8888/notebooks/LOAD_BALANCING_HTTPS/Load%20balancing%20and%20HTTPS.ipynb\" \"Mozilla/5.0 (X11; Linux x86_64) AppleWebKit/537.36 (KHTML, like Gecko) Chrome/69.0.3497.100 Safari/537.36\" \"-\"\n",
      "\u001b[33mngix_1   |\u001b[0m 172.24.0.1 - - [19/Nov/2018:10:33:15 +0000] \"GET /webapp/ HTTP/1.1\" 200 72 \"http://localhost:8888/notebooks/LOAD_BALANCING_HTTPS/Load%20balancing%20and%20HTTPS.ipynb\" \"Mozilla/5.0 (X11; Linux x86_64) AppleWebKit/537.36 (KHTML, like Gecko) Chrome/69.0.3497.100 Safari/537.36\" \"-\"\n",
      "^C\n",
      "Gracefully stopping... (press Ctrl+C again to force)\n",
      "Stopping code_node2_1 ... \n",
      "Stopping code_ngix_1  ... \n",
      "Stopping code_node1_1 ... \n"
     ]
    }
   ],
   "source": [
    "!docker-compose -f ./code/docker-compose.yml up"
   ]
  },
  {
   "cell_type": "markdown",
   "metadata": {},
   "source": [
    "# http://localhost:8080/webapp/\n",
    "\n",
    "NOTE: if you reload the page the IP address changes showing that we are actually interacting with both the nodes. This is the proof of the load balancing."
   ]
  },
  {
   "cell_type": "markdown",
   "metadata": {},
   "source": [
    "# HTTPS in NGINX"
   ]
  },
  {
   "cell_type": "code",
   "execution_count": 8,
   "metadata": {},
   "outputs": [
    {
     "name": "stdout",
     "output_type": "stream",
     "text": [
      "mkdir: cannot create directory ‘./code/keys’: File exists\r\n"
     ]
    }
   ],
   "source": [
    "!mkdir ./code/keys"
   ]
  },
  {
   "cell_type": "markdown",
   "metadata": {},
   "source": [
    "<img src='http://www.ia.nato.int/images/nia/pki/smime-01.jpg'>\n",
    "<img src='https://www.tutorialspoint.com/cryptography/images/digital_certificate.jpg'>\n",
    "\n",
    "Open a terminal in . and run \n",
    "```\n",
    "openssl req -x509 -nodes -days 365 -newkey rsa:2048 -keyout ./code/keys/nginx-selfsigned.key -out ./code/keys/nginx-selfsigned.crt\n",
    "```\n",
    "\n",
    "This generates the couple of keys and the certificate\n",
    "\n",
    "then \n",
    "\n",
    "```\n",
    "openssl dhparam -out ./code/keys/dhparam.pem 2048\n",
    "```"
   ]
  },
  {
   "cell_type": "code",
   "execution_count": 12,
   "metadata": {},
   "outputs": [
    {
     "name": "stdout",
     "output_type": "stream",
     "text": [
      "Overwriting code/docker-compose.yml\n"
     ]
    }
   ],
   "source": [
    "%%writefile code/docker-compose.yml\n",
    "\n",
    "version: \"2\"\n",
    "\n",
    "services:\n",
    "  node1:\n",
    "    image: \"node:8\"\n",
    "    user: \"node\"\n",
    "    working_dir: /home/node/app\n",
    "    environment:\n",
    "      - NODE_ENV=production\n",
    "    volumes:\n",
    "      - /home/andrea/Documents/University/Didattica/RC2018/notebooks/LOAD_BALANCING_HTTPS/code/app:/home/node/app\n",
    "    expose:\n",
    "      - 8081\n",
    "    command: \"npm start\"\n",
    "  node2:\n",
    "    image: \"node:8\"\n",
    "    user: \"node\"\n",
    "    working_dir: /home/node/app\n",
    "    environment:\n",
    "      - NODE_ENV=production\n",
    "    volumes:\n",
    "      - /home/andrea/Documents/University/Didattica/RC2018/notebooks/LOAD_BALANCING_HTTPS/code/app:/home/node/app\n",
    "    expose:\n",
    "      - 8081\n",
    "    command: \"npm start\"\n",
    "  ngix:\n",
    "    image: \"nginx\"\n",
    "    volumes:\n",
    "    \n",
    "      - /home/andrea/Documents/University/Didattica/RC2018/notebooks/LOAD_BALANCING_HTTPS/code/var/www:/var/www\n",
    "      - /home/andrea/Documents/University/Didattica/RC2018/notebooks/LOAD_BALANCING_HTTPS/code/nginx.conf:/etc/nginx/nginx.conf\n",
    "      - /home/andrea/Documents/University/Didattica/RC2018/notebooks/LOAD_BALANCING_HTTPS/code/conf.d:/etc/nginx/conf.d\n",
    "      - /home/andrea/Documents/University/Didattica/RC2018/notebooks/LOAD_BALANCING_HTTPS/code/keys:/etc/nginx/keys\n",
    "    ports:\n",
    "      - \"8080:80\"\n",
    "      - \"4443:443\"\n",
    "    expose:\n",
    "      - 80\n",
    "      - 443"
   ]
  },
  {
   "cell_type": "code",
   "execution_count": 13,
   "metadata": {},
   "outputs": [
    {
     "name": "stdout",
     "output_type": "stream",
     "text": [
      "Overwriting code/nginx.conf\n"
     ]
    }
   ],
   "source": [
    "%%writefile code/nginx.conf\n",
    "\n",
    "user  nginx;\n",
    "worker_processes  1;\n",
    "\n",
    "error_log  /var/log/nginx/error.log warn;\n",
    "pid        /var/run/nginx.pid;\n",
    "\n",
    "\n",
    "events {\n",
    "    worker_connections  1024;\n",
    "}\n",
    "\n",
    "\n",
    "http {\n",
    "\n",
    "    ssl_certificate     /etc/nginx/keys/nginx-selfsigned.crt;\n",
    "    ssl_certificate_key /etc/nginx/keys/nginx-selfsigned.key;\n",
    "    ssl_ciphers         EECDH+AESGCM:EDH+AESGCM:AES256+EECDH:AES256+EDH;\n",
    "    ssl_protocols       TLSv1.1 TLSv1.2;\n",
    "\n",
    "    include       /etc/nginx/mime.types;\n",
    "    default_type  application/octet-stream;\n",
    "\n",
    "    log_format  main  '$remote_addr - $remote_user [$time_local] \"$request\" '\n",
    "                      '$status $body_bytes_sent \"$http_referer\" '\n",
    "                      '\"$http_user_agent\" \"$http_x_forwarded_for\"';\n",
    "\n",
    "    access_log  /var/log/nginx/access.log  main;\n",
    "\n",
    "    sendfile        on;\n",
    "    #tcp_nopush     on;\n",
    "\n",
    "    keepalive_timeout  65;\n",
    "\n",
    "    #gzip  on;\n",
    "\n",
    "    include /etc/nginx/conf.d/*.conf;\n",
    "    #include /etc/nginx/conf.d/sites-available/*.conf;\n",
    "    #include /etc/nginx/conf.d/sites-enabled/*.conf;\n",
    "}\n"
   ]
  },
  {
   "cell_type": "code",
   "execution_count": 14,
   "metadata": {},
   "outputs": [
    {
     "name": "stdout",
     "output_type": "stream",
     "text": [
      "Overwriting code/conf.d/load-balancer.conf\n"
     ]
    }
   ],
   "source": [
    "%%writefile code/conf.d/load-balancer.conf\n",
    "\n",
    "# in the 'http' block\n",
    "upstream nodejs {\n",
    "    server node1:8081;\n",
    "    server node2:8081;\n",
    "}\n",
    "\n",
    "server {\n",
    "# in the 'server' block for HTTPS traffic\n",
    "\n",
    "    listen              443 ssl default_server;\n",
    "    listen              [::]:443 ssl default_server ;\n",
    "    location /webapp/ {\n",
    "        proxy_pass http://nodejs;\n",
    "    }\n",
    "}"
   ]
  },
  {
   "cell_type": "code",
   "execution_count": 15,
   "metadata": {},
   "outputs": [
    {
     "name": "stdout",
     "output_type": "stream",
     "text": [
      "Recreating code_ngix_1 ... \n",
      "Recreating code_ngix_1\n",
      "Starting code_node1_1 ... \n",
      "Starting code_node2_1 ... \n",
      "Starting code_node2_1\n",
      "Starting code_node1_1\n",
      "\u001b[1BAttaching to code_node2_1, code_node1_1, code_ngix_1\n",
      "\u001b[36mnode2_1  |\u001b[0m \n",
      "\u001b[36mnode2_1  |\u001b[0m > 2.-node@1.0.0 start /home/node/app\n",
      "\u001b[36mnode2_1  |\u001b[0m > node server.js\n",
      "\u001b[36mnode2_1  |\u001b[0m \n",
      "\u001b[36mnode2_1  |\u001b[0m Server listening on: http://localhost:8081\n",
      "\u001b[33mnode1_1  |\u001b[0m \n",
      "\u001b[33mnode1_1  |\u001b[0m > 2.-node@1.0.0 start /home/node/app\n",
      "\u001b[33mnode1_1  |\u001b[0m > node server.js\n",
      "\u001b[33mnode1_1  |\u001b[0m \n",
      "\u001b[33mnode1_1  |\u001b[0m Server listening on: http://localhost:8081\n",
      "\u001b[32mngix_1   |\u001b[0m 172.24.0.1 - - [19/Nov/2018:10:42:24 +0000] \"GET /webapp/ HTTP/1.1\" 200 72 \"http://localhost:8888/notebooks/LOAD_BALANCING_HTTPS/Load%20balancing%20and%20HTTPS.ipynb\" \"Mozilla/5.0 (X11; Linux x86_64) AppleWebKit/537.36 (KHTML, like Gecko) Chrome/69.0.3497.100 Safari/537.36\" \"-\"\n",
      "\u001b[32mngix_1   |\u001b[0m 172.24.0.1 - - [19/Nov/2018:10:42:26 +0000] \"GET /favicon.ico HTTP/1.1\" 404 571 \"https://localhost:4443/webapp/\" \"Mozilla/5.0 (X11; Linux x86_64) AppleWebKit/537.36 (KHTML, like Gecko) Chrome/69.0.3497.100 Safari/537.36\" \"-\"\n",
      "\u001b[32mngix_1   |\u001b[0m 2018/11/19 10:42:26 [error] 7#7: *3 open() \"/etc/nginx/html/favicon.ico\" failed (2: No such file or directory), client: 172.24.0.1, server: , request: \"GET /favicon.ico HTTP/1.1\", host: \"localhost:4443\", referrer: \"https://localhost:4443/webapp/\"\n",
      "\u001b[32mngix_1   |\u001b[0m 172.24.0.1 - - [19/Nov/2018:10:43:19 +0000] \"GET /webapp/ HTTP/1.1\" 200 72 \"http://localhost:8888/notebooks/LOAD_BALANCING_HTTPS/Load%20balancing%20and%20HTTPS.ipynb\" \"Mozilla/5.0 (X11; Linux x86_64) AppleWebKit/537.36 (KHTML, like Gecko) Chrome/69.0.3497.100 Safari/537.36\" \"-\"\n",
      "^C\n",
      "Gracefully stopping... (press Ctrl+C again to force)\n",
      "Stopping code_ngix_1  ... \n",
      "Stopping code_node2_1 ... \n",
      "Stopping code_node1_1 ... \n"
     ]
    }
   ],
   "source": [
    "!docker-compose -f ./code/docker-compose.yml up"
   ]
  },
  {
   "cell_type": "markdown",
   "metadata": {},
   "source": [
    "# https://localhost:4443/webapp/"
   ]
  },
  {
   "cell_type": "markdown",
   "metadata": {},
   "source": [
    "# The certificate is not recognised\n",
    "\n",
    "<img src=\"assets/sec1.png\">\n",
    "\n",
    "# Indeed is not among the certificates of the certification authorities in the browser\n",
    "\n",
    "<img src=\"assets/sec2.1.png\">\n",
    "\n",
    "# You can anyway proceed ... but you should know who issued the certificate \n",
    "\n",
    "<img src=\"assets/sec2.png\">"
   ]
  },
  {
   "cell_type": "markdown",
   "metadata": {},
   "source": [
    "# The evidence on load balancing: IP addresses alternate on reload\n",
    "\n",
    "<img src=\"assets/sec3.png\">\n",
    "<img src=\"assets/sec4.png\">"
   ]
  },
  {
   "cell_type": "code",
   "execution_count": null,
   "metadata": {},
   "outputs": [],
   "source": []
  }
 ],
 "metadata": {
  "kernelspec": {
   "display_name": "Python 2",
   "language": "python",
   "name": "python2"
  },
  "language_info": {
   "codemirror_mode": {
    "name": "ipython",
    "version": 2
   },
   "file_extension": ".py",
   "mimetype": "text/x-python",
   "name": "python",
   "nbconvert_exporter": "python",
   "pygments_lexer": "ipython2",
   "version": "2.7.15rc1"
  }
 },
 "nbformat": 4,
 "nbformat_minor": 2
}
